{
 "cells": [
  {
   "cell_type": "code",
   "execution_count": 1,
   "id": "b76aef84-931a-449f-beeb-377e43121845",
   "metadata": {},
   "outputs": [],
   "source": [
    "import csv"
   ]
  },
  {
   "cell_type": "code",
   "execution_count": 2,
   "id": "5a8e9896-ed7f-43c7-8178-131f1e9353ff",
   "metadata": {},
   "outputs": [],
   "source": [
    "listQA = []"
   ]
  },
  {
   "cell_type": "code",
   "execution_count": 3,
   "id": "00b622f7-b4b9-42d8-ac0c-569184b84b49",
   "metadata": {},
   "outputs": [],
   "source": [
    "with open('data-lokasi-patung-dan-monumen.csv') as csv_file:\n",
    "    csv_reader = csv.reader(csv_file, delimiter=',')\n",
    "    line_count = 0\n",
    "    for row in csv_reader:\n",
    "        if line_count == 0:\n",
    "            line_count += 1\n",
    "        else:\n",
    "            listQA.append(\"{}={}\".format(row[0], row[1]))\n",
    "            line_count += 1"
   ]
  },
  {
   "cell_type": "code",
   "execution_count": 4,
   "id": "c2753501-bb90-4aa4-b393-f0fc6b29d9b2",
   "metadata": {},
   "outputs": [],
   "source": [
    "with open('daftar-kegiatan-pameran-di-dki-jakarta-tahun-2010.csv') as csv_file:\n",
    "    csv_reader = csv.reader(csv_file, delimiter=',')\n",
    "    line_count = 0\n",
    "    for row in csv_reader:\n",
    "        if line_count == 0:\n",
    "            line_count += 1\n",
    "        else:\n",
    "            listQA.append(\"kapan {} mulai={}\".format(row[2], row[0]))\n",
    "            listQA.append(\"kapan {} selesai={}\".format(row[2], row[1]))\n",
    "            listQA.append(\"di mana {}={}\".format(row[2], row[4]))\n",
    "            line_count += 1"
   ]
  },
  {
   "cell_type": "code",
   "execution_count": 5,
   "id": "f8a5a8c9-2e27-4132-af17-f585876ea02e",
   "metadata": {},
   "outputs": [],
   "source": [
    "with open('data-destinasi-museum-di-provinsi-dki-jakarta.csv') as csv_file:\n",
    "    csv_reader = csv.reader(csv_file, delimiter=',')\n",
    "    line_count = 0\n",
    "    for row in csv_reader:\n",
    "        if line_count == 0:\n",
    "            line_count += 1\n",
    "        else:\n",
    "            listQA.append(\"{}={}\".format(row[0], row[1]))\n",
    "            line_count += 1"
   ]
  },
  {
   "cell_type": "code",
   "execution_count": 6,
   "id": "2248bd3f-2f54-4632-b741-5bbefc2c7b9d",
   "metadata": {},
   "outputs": [],
   "source": [
    "with open('data-jumlah-hotel-berbintang-dan-non-bintang-jakarta-tahun-2016.csv') as csv_file:\n",
    "    csv_reader = csv.reader(csv_file, delimiter=',')\n",
    "    line_count = 0\n",
    "    for row in csv_reader:\n",
    "        if line_count == 0:\n",
    "            line_count += 1\n",
    "        else:\n",
    "            listQA.append(\"di mana {}={}\".format(row[0], row[1]))\n",
    "            if row[4] != \"\":\n",
    "                listQA.append(\"no telepon {}={}\".format(row[0], row[4]))\n",
    "            \n",
    "            line_count += 1"
   ]
  },
  {
   "cell_type": "code",
   "execution_count": 7,
   "id": "655d6395-0ad3-4808-8368-c748031ff2b3",
   "metadata": {},
   "outputs": [],
   "source": [
    "with open('data-usaha-jasa-akomodasi-jenis-usaha-hotel-bintang-di-dki-jakarta-tahun-2014.csv') as csv_file:\n",
    "    csv_reader = csv.reader(csv_file, delimiter=',')\n",
    "    line_count = 0\n",
    "    for row in csv_reader:\n",
    "        if line_count == 0:\n",
    "            line_count += 1\n",
    "        else:\n",
    "            listQA.append(\"di mana {}={}\".format(row[0], row[1]))\n",
    "            if row[8] != \"\":\n",
    "                listQA.append(\"no telepon {}={}\".format(row[0], row[8]))\n",
    "            line_count += 1"
   ]
  },
  {
   "cell_type": "code",
   "execution_count": 8,
   "id": "818b30e7-97d1-472e-896b-45b22dbe30b4",
   "metadata": {},
   "outputs": [],
   "source": [
    "with open('data-usaha-jasa-akomodasi-jenis-usaha-motel-tahun-2014.csv') as csv_file:\n",
    "    csv_reader = csv.reader(csv_file, delimiter=',')\n",
    "    line_count = 0\n",
    "    for row in csv_reader:\n",
    "        if line_count == 0:\n",
    "            line_count += 1\n",
    "        else:\n",
    "            listQA.append(\"di mana {}={}\".format(row[0], row[2]))\n",
    "            if row[7] != \"\":\n",
    "                listQA.append(\"no telepon {}={}\".format(row[0], row[7]))\n",
    "            line_count += 1"
   ]
  },
  {
   "cell_type": "code",
   "execution_count": 9,
   "id": "6bd6167b-24d3-4481-8780-64d253ccb716",
   "metadata": {},
   "outputs": [],
   "source": [
    "with open('data-usaha-jasa-makanan-minuman-jenis-usaha-bar-tahun-2014.csv') as csv_file:\n",
    "    csv_reader = csv.reader(csv_file, delimiter=',')\n",
    "    line_count = 0\n",
    "    for row in csv_reader:\n",
    "        if line_count == 0:\n",
    "            line_count += 1\n",
    "        else:\n",
    "            listQA.append(\"di mana {}={}\".format(row[0], row[1]))\n",
    "            if row[7] != \"\":\n",
    "                listQA.append(\"no telepon {}={}\".format(row[0], row[7]))\n",
    "            line_count += 1"
   ]
  },
  {
   "cell_type": "code",
   "execution_count": 10,
   "id": "c806fcd9-fd6d-491e-922a-bf27e3771c61",
   "metadata": {},
   "outputs": [],
   "source": [
    "with open(\"tanya_jawab.txt\",\"a\") as file:\n",
    "    for i, qa in enumerate(listQA):\n",
    "        if i+1 == len(listQA):\n",
    "            file.write(qa)\n",
    "        else:\n",
    "            file.write(\"{}\\n\".format(qa))\n",
    "    file.close()"
   ]
  }
 ],
 "metadata": {
  "kernelspec": {
   "display_name": "Python 3",
   "language": "python",
   "name": "python3"
  },
  "language_info": {
   "codemirror_mode": {
    "name": "ipython",
    "version": 3
   },
   "file_extension": ".py",
   "mimetype": "text/x-python",
   "name": "python",
   "nbconvert_exporter": "python",
   "pygments_lexer": "ipython3",
   "version": "3.9.5"
  }
 },
 "nbformat": 4,
 "nbformat_minor": 5
}
