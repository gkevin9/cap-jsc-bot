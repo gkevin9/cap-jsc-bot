{
 "cells": [
  {
   "cell_type": "code",
   "execution_count": 1,
   "id": "b76aef84-931a-449f-beeb-377e43121845",
   "metadata": {},
   "outputs": [],
   "source": [
    "import csv"
   ]
  },
  {
   "cell_type": "code",
   "execution_count": 15,
   "id": "00b622f7-b4b9-42d8-ac0c-569184b84b49",
   "metadata": {},
   "outputs": [],
   "source": [
    "listQA = []\n",
    "with open('data-lokasi-patung-dan-monumen.csv') as csv_file:\n",
    "    csv_reader = csv.reader(csv_file, delimiter=',')\n",
    "    line_count = 0\n",
    "    for row in csv_reader:\n",
    "        if line_count == 0:\n",
    "            line_count += 1\n",
    "        else:\n",
    "            listQA.append(\"{}={}\".format(row[0], row[1]))\n",
    "            line_count += 1"
   ]
  },
  {
   "cell_type": "code",
   "execution_count": 13,
   "id": "7a338bd0-42f7-4bb6-a873-c35d17317418",
   "metadata": {},
   "outputs": [
    {
     "name": "stdout",
     "output_type": "stream",
     "text": [
      " 2 3\n"
     ]
    }
   ],
   "source": [
    "a = \"1 2 3\"\n",
    "b = a.replace(\"1\", \"\")\n",
    "print(b)"
   ]
  },
  {
   "cell_type": "code",
   "execution_count": 16,
   "id": "c806fcd9-fd6d-491e-922a-bf27e3771c61",
   "metadata": {},
   "outputs": [],
   "source": [
    "with open(\"tanya_jawab.txt\",\"a\") as file:\n",
    "    for qa in listQA:\n",
    "        file.write(\"\\n{}\".format(qa))\n",
    "    file.close()"
   ]
  }
 ],
 "metadata": {
  "kernelspec": {
   "display_name": "Python 3",
   "language": "python",
   "name": "python3"
  },
  "language_info": {
   "codemirror_mode": {
    "name": "ipython",
    "version": 3
   },
   "file_extension": ".py",
   "mimetype": "text/x-python",
   "name": "python",
   "nbconvert_exporter": "python",
   "pygments_lexer": "ipython3",
   "version": "3.9.5"
  }
 },
 "nbformat": 4,
 "nbformat_minor": 5
}
